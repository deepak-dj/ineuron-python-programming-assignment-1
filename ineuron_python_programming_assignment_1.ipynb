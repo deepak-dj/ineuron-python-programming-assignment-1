{
  "nbformat": 4,
  "nbformat_minor": 0,
  "metadata": {
    "colab": {
      "provenance": [],
      "collapsed_sections": []
    },
    "kernelspec": {
      "name": "python3",
      "display_name": "Python 3"
    },
    "language_info": {
      "name": "python"
    }
  },
  "cells": [
    {
      "cell_type": "markdown",
      "source": [
        "# Python Programming Assignment 1"
      ],
      "metadata": {
        "id": "GH4VabU9g2sG"
      }
    },
    {
      "cell_type": "markdown",
      "source": [
        "1. Write a Python program to print &quot;Hello Python&quot;?\n",
        "2. Write a Python program to do arithmetical operations addition and division.?\n",
        "3. Write a Python program to find the area of a triangle?\n",
        "4. Write a Python program to swap two variables?\n",
        "5. Write a Python program to generate a random number?\n"
      ],
      "metadata": {
        "id": "2Lx-5Rr-gz_u"
      }
    },
    {
      "cell_type": "code",
      "source": [
        "# ques 1\n",
        "def result (data):\n",
        "  print(data)\n",
        "result(\"Hello Python\")  "
      ],
      "metadata": {
        "id": "RQcoeQvqg0lx"
      },
      "execution_count": 9,
      "outputs": []
    },
    {
      "cell_type": "code",
      "source": [
        "# ques 2\n",
        "def add(n1,n2):\n",
        "  return n1+n2\n",
        "\n",
        "def div(n1,n2):\n",
        "  return n1/n2\n",
        "\n",
        "print(f'{add(2,3)}\\n{div(5,10)}')"
      ],
      "metadata": {
        "colab": {
          "base_uri": "https://localhost:8080/"
        },
        "id": "jq5qXkh6hAXS",
        "outputId": "e59b9a3e-d207-43fd-c3bf-241afdabbd9b"
      },
      "execution_count": 10,
      "outputs": [
        {
          "output_type": "stream",
          "name": "stdout",
          "text": [
            "5\n",
            "0.5\n"
          ]
        }
      ]
    },
    {
      "cell_type": "code",
      "source": [
        "# ques 3\n",
        "\n",
        "def area(length,breadth):\n",
        "  return  1/2*(length*breadth)\n",
        "print(area(20,10))"
      ],
      "metadata": {
        "colab": {
          "base_uri": "https://localhost:8080/"
        },
        "id": "zuvMWYfShNaD",
        "outputId": "6e67ad99-626c-4849-ba8f-4301d6fe02ed"
      },
      "execution_count": 12,
      "outputs": [
        {
          "output_type": "stream",
          "name": "stdout",
          "text": [
            "100.0\n"
          ]
        }
      ]
    },
    {
      "cell_type": "code",
      "source": [
        "# ques 3\n",
        "def swap(v1,v2):\n",
        "  t = v1\n",
        "  v1 = v2\n",
        "  v2 = t\n",
        "  return v1,v2\n",
        "\n",
        "s = swap(9,10)\n",
        "print(s)\n",
        "\n"
      ],
      "metadata": {
        "colab": {
          "base_uri": "https://localhost:8080/"
        },
        "id": "r0sBpl04htdk",
        "outputId": "b41cd8ea-03d6-418a-b112-befe4db12071"
      },
      "execution_count": 20,
      "outputs": [
        {
          "output_type": "stream",
          "name": "stdout",
          "text": [
            "(10, 9)\n"
          ]
        }
      ]
    },
    {
      "cell_type": "code",
      "source": [
        "# ques 4\n",
        "\n",
        "import random\n",
        "\n",
        "x =  random.randint(0,100)\n",
        "print(x)"
      ],
      "metadata": {
        "colab": {
          "base_uri": "https://localhost:8080/"
        },
        "id": "VzB5Jev7iksz",
        "outputId": "3f4e35b9-80fd-46cf-b023-7680519672ed"
      },
      "execution_count": 21,
      "outputs": [
        {
          "output_type": "stream",
          "name": "stdout",
          "text": [
            "3\n"
          ]
        }
      ]
    },
    {
      "cell_type": "code",
      "source": [],
      "metadata": {
        "id": "0frwgKyiippU"
      },
      "execution_count": null,
      "outputs": []
    }
  ]
}